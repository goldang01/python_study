{
 "cells": [
  {
   "cell_type": "code",
   "execution_count": null,
   "id": "small-carrier",
   "metadata": {},
   "outputs": [],
   "source": [
    "number =  input(\"숫자를 입력하세요:\")"
   ]
  },
  {
   "cell_type": "code",
   "execution_count": null,
   "id": "removed-kelly",
   "metadata": {},
   "outputs": [],
   "source": []
  }
 ],
 "metadata": {
  "kernelspec": {
   "display_name": "Python 3",
   "language": "python",
   "name": "python3"
  },
  "language_info": {
   "codemirror_mode": {
    "name": "ipython",
    "version": 3
   },
   "file_extension": ".py",
   "mimetype": "text/x-python",
   "name": "python",
   "nbconvert_exporter": "python",
   "pygments_lexer": "ipython3",
   "version": "3.9.2"
  }
 },
 "nbformat": 4,
 "nbformat_minor": 5
}
