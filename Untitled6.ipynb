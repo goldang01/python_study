{
 "cells": [
  {
   "cell_type": "code",
   "execution_count": 1,
   "id": "pretty-pound",
   "metadata": {},
   "outputs": [
    {
     "name": "stdout",
     "output_type": "stream",
     "text": [
      "돈을 넣어 주세요:300\n",
      "돈을 넣어 주세요:200\n",
      "돈을 넣어 주세요:3000\n",
      "돈을 넣어 주세요:1000\n",
      "돈을 넣어 주세요:\n"
     ]
    },
    {
     "ename": "ValueError",
     "evalue": "invalid literal for int() with base 10: ''",
     "output_type": "error",
     "traceback": [
      "\u001b[1;31m---------------------------------------------------------------------------\u001b[0m",
      "\u001b[1;31mValueError\u001b[0m                                Traceback (most recent call last)",
      "\u001b[1;32m<ipython-input-1-f26ef97ea27f>\u001b[0m in \u001b[0;36m<module>\u001b[1;34m\u001b[0m\n\u001b[0;32m      2\u001b[0m \u001b[0mcoffee\u001b[0m \u001b[1;33m=\u001b[0m \u001b[1;36m10\u001b[0m\u001b[1;33m\u001b[0m\u001b[1;33m\u001b[0m\u001b[0m\n\u001b[0;32m      3\u001b[0m \u001b[1;32mwhile\u001b[0m \u001b[1;32mTrue\u001b[0m\u001b[1;33m:\u001b[0m\u001b[1;33m\u001b[0m\u001b[1;33m\u001b[0m\u001b[0m\n\u001b[1;32m----> 4\u001b[1;33m     \u001b[0mmoney\u001b[0m \u001b[1;33m=\u001b[0m \u001b[0mint\u001b[0m\u001b[1;33m(\u001b[0m\u001b[0minput\u001b[0m\u001b[1;33m(\u001b[0m\u001b[1;34m\"돈을 넣어 주세요:\"\u001b[0m\u001b[1;33m)\u001b[0m\u001b[1;33m)\u001b[0m\u001b[1;33m\u001b[0m\u001b[1;33m\u001b[0m\u001b[0m\n\u001b[0m\u001b[0;32m      5\u001b[0m \u001b[1;32mif\u001b[0m \u001b[0mmoney\u001b[0m \u001b[1;33m==\u001b[0m \u001b[1;36m300\u001b[0m\u001b[1;33m:\u001b[0m\u001b[1;33m\u001b[0m\u001b[1;33m\u001b[0m\u001b[0m\n\u001b[0;32m      6\u001b[0m     \u001b[0mprint\u001b[0m\u001b[1;33m(\u001b[0m\u001b[1;34m\"커피를 줍니다.\"\u001b[0m\u001b[1;33m)\u001b[0m\u001b[1;33m\u001b[0m\u001b[1;33m\u001b[0m\u001b[0m\n",
      "\u001b[1;31mValueError\u001b[0m: invalid literal for int() with base 10: ''"
     ]
    }
   ],
   "source": [
    "# coffee.py\n",
    "coffee = 10\n",
    "while True:\n",
    "    money = int(input(\"돈을 넣어 주세요:\"))\n",
    "if money == 300:\n",
    "    print(\"커피를 줍니다.\")\n",
    "    coffee = coffee - 1\n",
    "elif money > 300:\n",
    "    print(\"거스름돈은 %d를 주고 커피를 줍니다.\" %(money-300))\n",
    "    coffee = coffee -1\n",
    "else:\n",
    "    print(\"돈을 다시 돌려주고 커피를 주지 않습니다.\")\n",
    "    print(\"남은 커피의 양은 %d개 입니다.\" % coffee)\n",
    "if coffee == 0:\n",
    "    print(\"커피가 다 떨어졌습니다.판매를 중지합니다.\")\n",
    "break"
   ]
  },
  {
   "cell_type": "code",
   "execution_count": null,
   "id": "qualified-philadelphia",
   "metadata": {},
   "outputs": [],
   "source": [
    "# coffee.py\n",
    "coffee = 10\n",
    "while True:\n",
    "    money = int(input(\"3000:\"))\n",
    "if money == 300:\n",
    "    print(\"커피를 줍니다.\")\n",
    "    coffee = coffee - 1\n",
    "elif money > 300:\n",
    "    print(\"거스름돈은 %d를 주고 커피를 줍니다.\" %(money-300))\n",
    "    coffee = coffee -1\n",
    "else:\n",
    "    print(\"돈을 다시 돌려주고 커피를 주지 않습니다.\")\n",
    "    print(\"남은 커피의 양은 %d개 입니다.\" % coffee)\n",
    "if coffee == 0:\n",
    "    print(\"커피가 다 떨어졌습니다.판매를 중지합니다.\")\n",
    "break"
   ]
  },
  {
   "cell_type": "code",
   "execution_count": null,
   "id": "dangerous-insurance",
   "metadata": {},
   "outputs": [
    {
     "name": "stdout",
     "output_type": "stream",
     "text": [
      "돈을 넣어 주세요:200\n",
      "돈을 넣어 주세요:200\n",
      "돈을 넣어 주세요:5000\n"
     ]
    }
   ],
   "source": [
    "# coffee.py\n",
    "coffee = 10\n",
    "while True:\n",
    "    money = int(input(\"돈을 넣어 주세요:\"))\n",
    "if money == 300:\n",
    "    print(\"커피를 줍니다.\")\n",
    "    coffee = coffee - 1\n",
    "elif money > 300:\n",
    "    print(\"거스름돈은 %d를 주고 커피를 줍니다.\" %(money-300))\n",
    "    coffee = coffee -1\n",
    "else:\n",
    "    print(\"돈을 다시 돌려주고 커피를 주지 않습니다.\")\n",
    "    print(\"남은 커피의 양은 %d개 입니다.\" % coffee)\n",
    "if coffee == 0:\n",
    "    print(\"커피가 다 떨어졌습니다.판매를 중지합니다.\")\n",
    "break"
   ]
  },
  {
   "cell_type": "code",
   "execution_count": null,
   "id": "peripheral-consultation",
   "metadata": {},
   "outputs": [],
   "source": [
    "a=0\n",
    "while a < 10:\n",
    "    a= a+1\n",
    "if a % 2 == 0: continue\n",
    "    priant"
   ]
  }
 ],
 "metadata": {
  "kernelspec": {
   "display_name": "Python 3",
   "language": "python",
   "name": "python3"
  },
  "language_info": {
   "codemirror_mode": {
    "name": "ipython",
    "version": 3
   },
   "file_extension": ".py",
   "mimetype": "text/x-python",
   "name": "python",
   "nbconvert_exporter": "python",
   "pygments_lexer": "ipython3",
   "version": "3.9.2"
  }
 },
 "nbformat": 4,
 "nbformat_minor": 5
}
