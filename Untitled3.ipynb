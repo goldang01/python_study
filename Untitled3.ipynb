{
 "cells": [
  {
   "cell_type": "code",
   "execution_count": 1,
   "id": "ambient-calcium",
   "metadata": {},
   "outputs": [
    {
     "data": {
      "text/plain": [
       "'PythonPython'"
      ]
     },
     "execution_count": 1,
     "metadata": {},
     "output_type": "execute_result"
    }
   ],
   "source": [
    "a = \"Python\"\n",
    "a * 2\n"
   ]
  },
  {
   "cell_type": "code",
   "execution_count": 2,
   "id": "casual-beverage",
   "metadata": {},
   "outputs": [
    {
     "name": "stdout",
     "output_type": "stream",
     "text": [
      "==================================================\n",
      "My Program\n",
      "==================================================\n"
     ]
    }
   ],
   "source": [
    " #multistring.py\n",
    " \n",
    " print(\"=\" * 50)\n",
    " print(\"My Program\")\n",
    " print(\"=\" * 50)\n"
   ]
  },
  {
   "cell_type": "code",
   "execution_count": 3,
   "id": "impaired-tract",
   "metadata": {},
   "outputs": [
    {
     "data": {
      "text/plain": [
       "17"
      ]
     },
     "execution_count": 3,
     "metadata": {},
     "output_type": "execute_result"
    }
   ],
   "source": [
    "a = \"Life is too shoer\"\n",
    "len(a)\n",
    "17"
   ]
  },
  {
   "cell_type": "code",
   "execution_count": 4,
   "id": "synthetic-simulation",
   "metadata": {},
   "outputs": [
    {
     "data": {
      "text/plain": [
       "17"
      ]
     },
     "execution_count": 4,
     "metadata": {},
     "output_type": "execute_result"
    }
   ],
   "source": [
    "a = \"Life is too shoer\"\n",
    "len(a)\n"
   ]
  },
  {
   "cell_type": "code",
   "execution_count": 5,
   "id": "banned-darkness",
   "metadata": {},
   "outputs": [
    {
     "data": {
      "text/plain": [
       "'f'"
      ]
     },
     "execution_count": 5,
     "metadata": {},
     "output_type": "execute_result"
    }
   ],
   "source": [
    "a =\" Life is too short, You need Pyhon\"\n",
    "a[3]\n",
    "\n"
   ]
  },
  {
   "cell_type": "code",
   "execution_count": 6,
   "id": "opened-spending",
   "metadata": {},
   "outputs": [
    {
     "data": {
      "text/plain": [
       "'e'"
      ]
     },
     "execution_count": 6,
     "metadata": {},
     "output_type": "execute_result"
    }
   ],
   "source": [
    "a =\" Life is too short, You need Pyhon\"\n",
    "a[3]\n",
    "'e'\n"
   ]
  },
  {
   "cell_type": "code",
   "execution_count": 7,
   "id": "dimensional-combine",
   "metadata": {},
   "outputs": [
    {
     "data": {
      "text/plain": [
       "'n'"
      ]
     },
     "execution_count": 7,
     "metadata": {},
     "output_type": "execute_result"
    }
   ],
   "source": [
    "a = \"Life is too short, You need Python\"\n",
    "a[0]\n",
    "'L'\n",
    "a[12]\n",
    "'s'\n",
    "a[-1]\n",
    "'n'\n"
   ]
  },
  {
   "cell_type": "code",
   "execution_count": 8,
   "id": "loved-regular",
   "metadata": {},
   "outputs": [
    {
     "data": {
      "text/plain": [
       "'n'"
      ]
     },
     "execution_count": 8,
     "metadata": {},
     "output_type": "execute_result"
    }
   ],
   "source": [
    "a = \"Life is too short, You need Python\"\n",
    "a[0]\n",
    "'L'\n",
    "a[12]\n",
    "'s'\n",
    "a[-1]\n",
    "'n'"
   ]
  },
  {
   "cell_type": "code",
   "execution_count": 9,
   "id": "incoming-triple",
   "metadata": {},
   "outputs": [
    {
     "data": {
      "text/plain": [
       "'Rainy'"
      ]
     },
     "execution_count": 9,
     "metadata": {},
     "output_type": "execute_result"
    }
   ],
   "source": [
    "a = \"20010331Rainy\"\n",
    "date = a[:8]\n",
    "weather = a[8:]\n",
    "date\n",
    "'20010331'\n",
    "weather\n",
    "'Rainy'\n"
   ]
  },
  {
   "cell_type": "code",
   "execution_count": 10,
   "id": "amateur-stereo",
   "metadata": {},
   "outputs": [
    {
     "data": {
      "text/plain": [
       "'I ate 10 apples. so I was sick for three days.'"
      ]
     },
     "execution_count": 10,
     "metadata": {},
     "output_type": "execute_result"
    }
   ],
   "source": [
    "number = 10\n",
    "day = \"three\"\n",
    "\"I ate %d apples. so I was sick for %s days.\" %(number, day)\n",
    "'I ate 10 apples. so I was sick for three days.'"
   ]
  },
  {
   "cell_type": "code",
   "execution_count": null,
   "id": "valued-princess",
   "metadata": {},
   "outputs": [],
   "source": []
  }
 ],
 "metadata": {
  "kernelspec": {
   "display_name": "Python 3",
   "language": "python",
   "name": "python3"
  },
  "language_info": {
   "codemirror_mode": {
    "name": "ipython",
    "version": 3
   },
   "file_extension": ".py",
   "mimetype": "text/x-python",
   "name": "python",
   "nbconvert_exporter": "python",
   "pygments_lexer": "ipython3",
   "version": "3.9.2"
  }
 },
 "nbformat": 4,
 "nbformat_minor": 5
}
